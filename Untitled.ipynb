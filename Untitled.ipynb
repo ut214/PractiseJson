{
 "cells": [
  {
   "cell_type": "code",
   "execution_count": 26,
   "id": "fcb3efef",
   "metadata": {},
   "outputs": [],
   "source": [
    "import json\n",
    "import os\n",
    "import pandas as pd"
   ]
  },
  {
   "cell_type": "code",
   "execution_count": 8,
   "id": "05ed93dc",
   "metadata": {},
   "outputs": [
    {
     "data": {
      "text/plain": [
       "<generator object _walk at 0x106174a50>"
      ]
     },
     "execution_count": 8,
     "metadata": {},
     "output_type": "execute_result"
    }
   ],
   "source": [
    "os.walk(\".\")"
   ]
  },
  {
   "cell_type": "code",
   "execution_count": 11,
   "id": "edba99ca",
   "metadata": {},
   "outputs": [
    {
     "data": {
      "text/plain": [
       "True"
      ]
     },
     "execution_count": 11,
     "metadata": {},
     "output_type": "execute_result"
    }
   ],
   "source": [
    "os.path.exists('sample_data/wine-ratings.json')"
   ]
  },
  {
   "cell_type": "code",
   "execution_count": 27,
   "id": "19ab39a0",
   "metadata": {},
   "outputs": [],
   "source": [
    "df = pd.read_json('sample_data/wine-ratings.json')"
   ]
  },
  {
   "cell_type": "code",
   "execution_count": 28,
   "id": "3bc5c2d3",
   "metadata": {},
   "outputs": [
    {
     "data": {
      "text/html": [
       "<div>\n",
       "<style scoped>\n",
       "    .dataframe tbody tr th:only-of-type {\n",
       "        vertical-align: middle;\n",
       "    }\n",
       "\n",
       "    .dataframe tbody tr th {\n",
       "        vertical-align: top;\n",
       "    }\n",
       "\n",
       "    .dataframe thead th {\n",
       "        text-align: right;\n",
       "    }\n",
       "</style>\n",
       "<table border=\"1\" class=\"dataframe\">\n",
       "  <thead>\n",
       "    <tr style=\"text-align: right;\">\n",
       "      <th></th>\n",
       "      <th>name</th>\n",
       "      <th>grape</th>\n",
       "      <th>region</th>\n",
       "      <th>variety</th>\n",
       "      <th>rating</th>\n",
       "      <th>notes</th>\n",
       "    </tr>\n",
       "  </thead>\n",
       "  <tbody>\n",
       "    <tr>\n",
       "      <th>0</th>\n",
       "      <td>Laurenz V Charming Gruner Veltliner 2013</td>\n",
       "      <td>NaN</td>\n",
       "      <td>Kamptal, Austria</td>\n",
       "      <td>White Wine</td>\n",
       "      <td>90</td>\n",
       "      <td>Aromas of ripe apples and a typical Veltliner ...</td>\n",
       "    </tr>\n",
       "    <tr>\n",
       "      <th>1</th>\n",
       "      <td>Laurenz V Charming Gruner Veltliner 2014</td>\n",
       "      <td>NaN</td>\n",
       "      <td>Kamptal, Austria</td>\n",
       "      <td>White Wine</td>\n",
       "      <td>90</td>\n",
       "      <td>Aromas of ripe apples and a typical Veltliner ...</td>\n",
       "    </tr>\n",
       "    <tr>\n",
       "      <th>2</th>\n",
       "      <td>Laurenz V Singing Gruner Veltliner 2007</td>\n",
       "      <td>NaN</td>\n",
       "      <td>Austria</td>\n",
       "      <td>White Wine</td>\n",
       "      <td>90</td>\n",
       "      <td>A very attractive fruit bouquet yields apple, ...</td>\n",
       "    </tr>\n",
       "    <tr>\n",
       "      <th>3</th>\n",
       "      <td>Laurenz V Singing Gruner Veltliner 2010</td>\n",
       "      <td>NaN</td>\n",
       "      <td>Austria</td>\n",
       "      <td>White Wine</td>\n",
       "      <td>88</td>\n",
       "      <td>A very attractive fruit bouquet yields apple, ...</td>\n",
       "    </tr>\n",
       "    <tr>\n",
       "      <th>4</th>\n",
       "      <td>Laurenz V Singing Gruner Veltliner 2011</td>\n",
       "      <td>NaN</td>\n",
       "      <td>Austria</td>\n",
       "      <td>White Wine</td>\n",
       "      <td>88</td>\n",
       "      <td>A very attractive fruit bouquet yields apple, ...</td>\n",
       "    </tr>\n",
       "  </tbody>\n",
       "</table>\n",
       "</div>"
      ],
      "text/plain": [
       "                                       name  grape            region  \\\n",
       "0  Laurenz V Charming Gruner Veltliner 2013    NaN  Kamptal, Austria   \n",
       "1  Laurenz V Charming Gruner Veltliner 2014    NaN  Kamptal, Austria   \n",
       "2   Laurenz V Singing Gruner Veltliner 2007    NaN           Austria   \n",
       "3   Laurenz V Singing Gruner Veltliner 2010    NaN           Austria   \n",
       "4   Laurenz V Singing Gruner Veltliner 2011    NaN           Austria   \n",
       "\n",
       "      variety  rating                                              notes  \n",
       "0  White Wine      90  Aromas of ripe apples and a typical Veltliner ...  \n",
       "1  White Wine      90  Aromas of ripe apples and a typical Veltliner ...  \n",
       "2  White Wine      90  A very attractive fruit bouquet yields apple, ...  \n",
       "3  White Wine      88  A very attractive fruit bouquet yields apple, ...  \n",
       "4  White Wine      88  A very attractive fruit bouquet yields apple, ...  "
      ]
     },
     "execution_count": 28,
     "metadata": {},
     "output_type": "execute_result"
    }
   ],
   "source": [
    "df.head()\n",
    "\n",
    "    "
   ]
  },
  {
   "cell_type": "code",
   "execution_count": 39,
   "id": "1bbdacc4",
   "metadata": {},
   "outputs": [],
   "source": [
    "filter_df = df[(df.variety == 'Red Wine') | (df.variety==\"White Wine\")]"
   ]
  },
  {
   "cell_type": "code",
   "execution_count": 43,
   "id": "821aa26c",
   "metadata": {},
   "outputs": [],
   "source": [
    "filter_df = filter_df[(filter_df.rating >= 90) & (filter_df.rating<=92)]"
   ]
  },
  {
   "cell_type": "code",
   "execution_count": 44,
   "id": "821589cf",
   "metadata": {},
   "outputs": [],
   "source": [
    "filter_df = filter_df[filter_df.region == \"Austria\"]\n"
   ]
  },
  {
   "cell_type": "code",
   "execution_count": 45,
   "id": "de84f60f",
   "metadata": {},
   "outputs": [],
   "source": [
    "filter_df.to_json(\"filterdata.json\")"
   ]
  },
  {
   "cell_type": "code",
   "execution_count": 46,
   "id": "96af3780",
   "metadata": {},
   "outputs": [
    {
     "data": {
      "text/plain": [
       "array([90, 88, 89, 91, 93, 92, 97, 96, 95, 94, 98, 99, 86, 87, 85])"
      ]
     },
     "execution_count": 46,
     "metadata": {},
     "output_type": "execute_result"
    }
   ],
   "source": []
  },
  {
   "cell_type": "code",
   "execution_count": null,
   "id": "1f50cb61",
   "metadata": {},
   "outputs": [],
   "source": []
  }
 ],
 "metadata": {
  "kernelspec": {
   "display_name": "Python 3 (ipykernel)",
   "language": "python",
   "name": "python3"
  },
  "language_info": {
   "codemirror_mode": {
    "name": "ipython",
    "version": 3
   },
   "file_extension": ".py",
   "mimetype": "text/x-python",
   "name": "python",
   "nbconvert_exporter": "python",
   "pygments_lexer": "ipython3",
   "version": "3.9.6"
  }
 },
 "nbformat": 4,
 "nbformat_minor": 5
}
